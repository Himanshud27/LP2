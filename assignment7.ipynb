{
  "nbformat": 4,
  "nbformat_minor": 0,
  "metadata": {
    "colab": {
      "provenance": [],
      "include_colab_link": true
    },
    "kernelspec": {
      "name": "python3",
      "display_name": "Python 3"
    },
    "language_info": {
      "name": "python"
    }
  },
  "cells": [
    {
      "cell_type": "markdown",
      "metadata": {
        "id": "view-in-github",
        "colab_type": "text"
      },
      "source": [
        "<a href=\"https://colab.research.google.com/github/Himanshud27/LP2/blob/main/assignment7.ipynb\" target=\"_parent\"><img src=\"https://colab.research.google.com/assets/colab-badge.svg\" alt=\"Open In Colab\"/></a>"
      ]
    },
    {
      "cell_type": "code",
      "execution_count": null,
      "metadata": {
        "id": "EA5CHYor8oc9"
      },
      "outputs": [],
      "source": [
        "from textblob import TextBlob\n",
        "import nltk"
      ]
    },
    {
      "cell_type": "code",
      "source": [
        "nltk.download(\"punkt\")"
      ],
      "metadata": {
        "colab": {
          "base_uri": "https://localhost:8080/"
        },
        "id": "tsiLtBSh9hWh",
        "outputId": "1978d397-91b1-4967-abef-e4501a1dbafd"
      },
      "execution_count": null,
      "outputs": [
        {
          "output_type": "stream",
          "name": "stderr",
          "text": [
            "[nltk_data] Downloading package punkt to /root/nltk_data...\n",
            "[nltk_data]   Unzipping tokenizers/punkt.zip.\n"
          ]
        },
        {
          "output_type": "execute_result",
          "data": {
            "text/plain": [
              "True"
            ]
          },
          "metadata": {},
          "execution_count": 5
        }
      ]
    },
    {
      "cell_type": "code",
      "source": [
        "import nltk\n",
        "\n",
        "from nltk import tokenize\n",
        "nltk.download('punkt_tab')\n",
        "from nltk.tokenize import word_tokenize\n",
        "from nltk.tokenize import sent_tokenize\n",
        "b1=TextBlob(\"heelloo hoe are u doing.\"\n",
        "\"my name is shruti.\"\"im a btech student\")\n",
        "\n"
      ],
      "metadata": {
        "colab": {
          "base_uri": "https://localhost:8080/"
        },
        "id": "5K-wBJYO92Zm",
        "outputId": "eb2a9c28-ee6d-4a92-ebe9-e69415b68db8"
      },
      "execution_count": null,
      "outputs": [
        {
          "output_type": "stream",
          "name": "stderr",
          "text": [
            "[nltk_data] Downloading package punkt_tab to /root/nltk_data...\n",
            "[nltk_data]   Package punkt_tab is already up-to-date!\n"
          ]
        }
      ]
    },
    {
      "cell_type": "code",
      "source": [
        "b1.words"
      ],
      "metadata": {
        "colab": {
          "base_uri": "https://localhost:8080/"
        },
        "id": "e9vzf4ODYhev",
        "outputId": "59ea0260-cf1a-4521-f5ad-88d4a6779263"
      },
      "execution_count": null,
      "outputs": [
        {
          "output_type": "execute_result",
          "data": {
            "text/plain": [
              "WordList(['heelloo', 'hoe', 'are', 'u', 'doing.my', 'name', 'is', 'shruti.im', 'a', 'btech', 'student'])"
            ]
          },
          "metadata": {},
          "execution_count": 15
        }
      ]
    },
    {
      "cell_type": "code",
      "source": [
        "b1.sentences\n",
        "b1.upper()\n",
        "b2=TextBlob(\"cat dog camel\")\n",
        "b2.words.pluralize()\n",
        "\n",
        "b2=TextBlob(\"cats dogs camels\")\n",
        "b2.words.singularize()"
      ],
      "metadata": {
        "colab": {
          "base_uri": "https://localhost:8080/"
        },
        "id": "6uv2pdGpYkAf",
        "outputId": "81994bb1-af4b-46c2-c74e-5e6f49624c9e"
      },
      "execution_count": null,
      "outputs": [
        {
          "output_type": "execute_result",
          "data": {
            "text/plain": [
              "WordList(['cat', 'dog', 'camel'])"
            ]
          },
          "metadata": {},
          "execution_count": 30
        }
      ]
    },
    {
      "cell_type": "code",
      "source": [],
      "metadata": {
        "id": "FS29EWqmmTov"
      },
      "execution_count": null,
      "outputs": []
    },
    {
      "cell_type": "code",
      "source": [
        "text=\"heelloo, how are u doing? my name is shruti. im a btech student,i've being studying btech \"\n",
        "token_sent=sent_tokenize(text)\n",
        "print(token_sent)"
      ],
      "metadata": {
        "colab": {
          "base_uri": "https://localhost:8080/"
        },
        "id": "TADvzH3qYnuV",
        "outputId": "f1f11807-f5ac-4ad0-c1da-9ed52790e106"
      },
      "execution_count": null,
      "outputs": [
        {
          "output_type": "stream",
          "name": "stdout",
          "text": [
            "['heelloo, how are u doing?', 'my name is shruti.', \"im a btech student,i've being studying btech\"]\n"
          ]
        }
      ]
    },
    {
      "cell_type": "code",
      "source": [
        "token_words=word_tokenize(text)\n",
        "print(token_words)"
      ],
      "metadata": {
        "colab": {
          "base_uri": "https://localhost:8080/"
        },
        "id": "24ZML0SIZhQm",
        "outputId": "5e7967fa-2f12-4934-8b3c-e7105b013ab3"
      },
      "execution_count": null,
      "outputs": [
        {
          "output_type": "stream",
          "name": "stdout",
          "text": [
            "['heelloo', ',', 'how', 'are', 'u', 'doing', '?', 'my', 'name', 'is', 'shruti', '.', 'im', 'a', 'btech', 'student', ',', 'i', \"'ve\", 'being', 'studying', 'btech']\n"
          ]
        }
      ]
    },
    {
      "cell_type": "code",
      "source": [
        "import nltk\n",
        "nltk.download('stopwords')\n",
        "nltk.download('wordnet')"
      ],
      "metadata": {
        "colab": {
          "base_uri": "https://localhost:8080/"
        },
        "id": "uHMjnT9dmU56",
        "outputId": "84d352b6-2f54-4cfa-f8f0-fe92639ec35e"
      },
      "execution_count": null,
      "outputs": [
        {
          "output_type": "stream",
          "name": "stderr",
          "text": [
            "[nltk_data] Downloading package stopwords to /root/nltk_data...\n",
            "[nltk_data]   Package stopwords is already up-to-date!\n",
            "[nltk_data] Downloading package wordnet to /root/nltk_data...\n"
          ]
        },
        {
          "output_type": "execute_result",
          "data": {
            "text/plain": [
              "True"
            ]
          },
          "metadata": {},
          "execution_count": 32
        }
      ]
    },
    {
      "cell_type": "code",
      "source": [
        "from nltk.corpus import stopwords\n",
        "stop_words=set(stopwords.words(\"english\"))\n",
        "print(stop_words)"
      ],
      "metadata": {
        "colab": {
          "base_uri": "https://localhost:8080/"
        },
        "id": "t3--2g1Uo6ak",
        "outputId": "373b9cc6-2b3b-4538-cce4-55794e9ffc84"
      },
      "execution_count": null,
      "outputs": [
        {
          "output_type": "stream",
          "name": "stdout",
          "text": [
            "{'they', 'which', 'than', 't', \"isn't\", \"didn't\", 'hasn', \"i'll\", 'into', \"we've\", 'over', 'or', \"we're\", 'mustn', 'did', 'further', 'what', 'is', 'isn', 'will', 'don', 'being', 'such', 're', 'at', 'under', 'most', \"they've\", 'y', 'won', 'm', 'so', \"we'll\", 'can', 'all', \"he'd\", 'hers', 'shouldn', 'only', 'd', 'wasn', 'that', 'wouldn', 'herself', 'mightn', 'myself', 'few', 'them', 'before', 'yours', 'doesn', 'own', 'nor', 'itself', 'their', 'when', \"should've\", 's', 'for', 'your', 'she', 'below', 'didn', \"it'll\", 'ain', 'very', 'you', 'after', 'are', 'me', 'there', 'him', 'this', 'where', 'yourselves', 'but', 'of', \"they'd\", \"they'll\", 've', 'hadn', \"hadn't\", 'ours', 'about', 'its', 'not', 'haven', 'any', 'why', 'couldn', 'during', 'above', 'more', 'too', 'until', \"don't\", 'in', 'as', 'himself', 'because', 'down', \"that'll\", 'now', 'again', 'should', 'with', \"they're\", 'be', \"you'd\", 'here', 'needn', 'does', 'do', 'these', 'off', 'on', 'by', 'out', 'have', 'against', 'a', 'am', \"she'll\", 'up', 'between', \"shan't\", 'other', 'been', \"it's\", \"couldn't\", 'the', 'and', 'theirs', \"you're\", 'he', \"aren't\", 'we', \"shouldn't\", \"won't\", 'how', 'while', \"mightn't\", 'our', 'shan', \"doesn't\", 'doing', 'weren', 'were', 'it', 'my', \"weren't\", \"hasn't\", 'who', 'yourself', \"she'd\", 'an', 'whom', 'then', 'both', \"you've\", \"wasn't\", \"wouldn't\", \"it'd\", \"she's\", \"you'll\", 'i', 'll', \"mustn't\", 'his', 'having', \"i'd\", 'ourselves', 'themselves', 'was', 'ma', 'those', 'to', 'through', 'aren', 'no', 'from', 'has', \"haven't\", \"we'd\", 'once', 'o', 'some', \"i'm\", \"he'll\", \"he's\", 'same', 'each', \"needn't\", 'her', \"i've\", 'just', 'had', 'if'}\n"
          ]
        }
      ]
    },
    {
      "cell_type": "code",
      "source": [
        "sts"
      ],
      "metadata": {
        "colab": {
          "base_uri": "https://localhost:8080/"
        },
        "id": "IBVJC98HowCg",
        "outputId": "215e4048-eb35-4db0-91e6-a8a53f531a78"
      },
      "execution_count": null,
      "outputs": [
        {
          "output_type": "stream",
          "name": "stdout",
          "text": [
            "['heelloo', ',', 'u', '?', 'name', 'shruti', '.', 'im', 'btech', 'student', ',', \"'ve\", 'studying', 'btech']\n"
          ]
        }
      ]
    },
    {
      "cell_type": "code",
      "source": [
        "from nltk.stem import PorterStemmer\n",
        "from nltk.stem.wordnet import WordNetLemmatizer"
      ],
      "metadata": {
        "id": "njgUt-z7mqPg"
      },
      "execution_count": null,
      "outputs": []
    },
    {
      "cell_type": "code",
      "source": [
        "ps=PorterStemmer()\n",
        "lem=WordNetLemmatizer()\n",
        "steming_words=[]\n",
        "lem_words=[]\n",
        "for w in Filtered_words:\n",
        "  steming_words.append(ps.stem(w))\n",
        "  lem_words.append(lem.lemmatize(w,\"v\"))\n",
        "print(steming_words)\n",
        "print(lem_words)"
      ],
      "metadata": {
        "colab": {
          "base_uri": "https://localhost:8080/"
        },
        "id": "7Kum7laFnGNT",
        "outputId": "2aa14180-7729-49c0-899e-a97629d25e68"
      },
      "execution_count": null,
      "outputs": [
        {
          "output_type": "stream",
          "name": "stdout",
          "text": [
            "['heelloo', ',', 'u', '?', 'name', 'shruti', '.', 'im', 'btech', 'student', ',', \"'ve\", 'studi', 'btech']\n",
            "['heelloo', ',', 'u', '?', 'name', 'shruti', '.', 'im', 'btech', 'student', ',', \"'ve\", 'study', 'btech']\n"
          ]
        }
      ]
    }
  ]
}