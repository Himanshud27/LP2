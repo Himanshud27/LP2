{
  "nbformat": 4,
  "nbformat_minor": 0,
  "metadata": {
    "colab": {
      "provenance": [],
      "authorship_tag": "ABX9TyPp7TqePVw9+tmDSGjLi/Oi",
      "include_colab_link": true
    },
    "kernelspec": {
      "name": "python3",
      "display_name": "Python 3"
    },
    "language_info": {
      "name": "python"
    }
  },
  "cells": [
    {
      "cell_type": "markdown",
      "metadata": {
        "id": "view-in-github",
        "colab_type": "text"
      },
      "source": [
        "<a href=\"https://colab.research.google.com/github/Himanshud27/LP2/blob/main/Assignment%2011-13.ipynb\" target=\"_parent\"><img src=\"https://colab.research.google.com/assets/colab-badge.svg\" alt=\"Open In Colab\"/></a>"
      ]
    },
    {
      "cell_type": "code",
      "execution_count": null,
      "metadata": {
        "colab": {
          "base_uri": "https://localhost:8080/"
        },
        "id": "eGrtKWyZIUt3",
        "outputId": "ead6a3d6-f78a-4492-d0e6-03c7bffc5814"
      },
      "outputs": [
        {
          "output_type": "stream",
          "name": "stdout",
          "text": [
            "Writing wordcount.py\n"
          ]
        }
      ],
      "source": [
        "%%writefile wordcount.py\n",
        "from mrjob.job import MRJob\n",
        "import re\n",
        "\n",
        "class wordc(MRJob):\n",
        "    def mapper(self, _, line):\n",
        "        words = re.findall(r'\\w+', line.lower())\n",
        "        for word in words:\n",
        "            yield (word, 1)\n",
        "\n",
        "    def reducer(self, key, values):\n",
        "        yield (key, sum(values))\n",
        "\n",
        "if __name__ == '__main__':\n",
        "    wordc.run()\n"
      ]
    },
    {
      "cell_type": "code",
      "source": [
        "%%writefile input.txt\n",
        "Hello world\n",
        "Hello Hadoop\n",
        "MapReduce is fun\n",
        "Hadoop is powerful\n"
      ],
      "metadata": {
        "colab": {
          "base_uri": "https://localhost:8080/"
        },
        "id": "rNOckZtoIgeW",
        "outputId": "a11c77e1-0ef3-48f9-d358-468256cf3424"
      },
      "execution_count": null,
      "outputs": [
        {
          "output_type": "stream",
          "name": "stdout",
          "text": [
            "Writing input.txt\n"
          ]
        }
      ]
    },
    {
      "cell_type": "code",
      "source": [
        "!python wordcount.py input.txt\n"
      ],
      "metadata": {
        "colab": {
          "base_uri": "https://localhost:8080/"
        },
        "id": "PVka00iGIkM7",
        "outputId": "6a27bb4d-9b92-4cc5-dad0-a29314ba8224"
      },
      "execution_count": null,
      "outputs": [
        {
          "output_type": "stream",
          "name": "stdout",
          "text": [
            "No configs found; falling back on auto-configuration\n",
            "No configs specified for inline runner\n",
            "Creating temp directory /tmp/wordcount.root.20250428.112252.596331\n",
            "Running step 1 of 1...\n",
            "job output is in /tmp/wordcount.root.20250428.112252.596331/output\n",
            "Streaming final output from /tmp/wordcount.root.20250428.112252.596331/output...\n",
            "\"hello\"\t2\n",
            "\"is\"\t2\n",
            "\"mapreduce\"\t1\n",
            "\"powerful\"\t1\n",
            "\"fun\"\t1\n",
            "\"hadoop\"\t2\n",
            "\"world\"\t1\n",
            "Removing temp directory /tmp/wordcount.root.20250428.112252.596331...\n"
          ]
        }
      ]
    },
    {
      "cell_type": "code",
      "source": [
        "!pip install mrjob"
      ],
      "metadata": {
        "colab": {
          "base_uri": "https://localhost:8080/"
        },
        "id": "5dlfEhBHIl5Q",
        "outputId": "b1a4596a-968c-498f-a42e-460652dae467"
      },
      "execution_count": 4,
      "outputs": [
        {
          "output_type": "stream",
          "name": "stdout",
          "text": [
            "Collecting mrjob\n",
            "  Downloading mrjob-0.7.4-py2.py3-none-any.whl.metadata (7.3 kB)\n",
            "Requirement already satisfied: PyYAML>=3.10 in /usr/local/lib/python3.11/dist-packages (from mrjob) (6.0.2)\n",
            "Downloading mrjob-0.7.4-py2.py3-none-any.whl (439 kB)\n",
            "\u001b[2K   \u001b[90m━━━━━━━━━━━━━━━━━━━━━━━━━━━━━━━━━━━━━━━━\u001b[0m \u001b[32m439.6/439.6 kB\u001b[0m \u001b[31m6.8 MB/s\u001b[0m eta \u001b[36m0:00:00\u001b[0m\n",
            "\u001b[?25hInstalling collected packages: mrjob\n",
            "Successfully installed mrjob-0.7.4\n"
          ]
        }
      ]
    },
    {
      "cell_type": "code",
      "source": [
        "%%writefile avg_weather.py\n",
        "from mrjob.job import MRJob\n",
        "\n",
        "class MRAverageWeather(MRJob):\n",
        "\n",
        "    def mapper(self, _, line):\n",
        "        if line.startswith('Date'):  # Skip header\n",
        "            return\n",
        "\n",
        "        columns = line.split()\n",
        "        if len(columns) >= 4:\n",
        "            try:\n",
        "                temperature = float(columns[1])\n",
        "                dew_point = float(columns[2])\n",
        "                wind_speed = float(columns[3])\n",
        "                yield (\"weather\", (temperature, dew_point, wind_speed, 1))\n",
        "            except ValueError:\n",
        "                pass\n",
        "\n",
        "    def reducer(self, key, values):\n",
        "        total_temp = 0\n",
        "        total_dew_point = 0\n",
        "        total_wind_speed = 0\n",
        "        count = 0\n",
        "\n",
        "        for temperature, dew_point, wind_speed, _ in values:\n",
        "            total_temp += temperature\n",
        "            total_dew_point += dew_point\n",
        "            total_wind_speed += wind_speed\n",
        "            count += 1\n",
        "\n",
        "        if count > 0:\n",
        "            avg_temp = total_temp / count\n",
        "            avg_dew_point = total_dew_point / count\n",
        "            avg_wind_speed = total_wind_speed / count\n",
        "            yield (\"Average\", (avg_temp, avg_dew_point, avg_wind_speed))\n",
        "        else:\n",
        "            yield (\"Average\", (None, None, None))\n",
        "\n",
        "if __name__ == '__main__':\n",
        "    MRAverageWeather.run()\n"
      ],
      "metadata": {
        "colab": {
          "base_uri": "https://localhost:8080/"
        },
        "id": "Negx9IdAInDn",
        "outputId": "f0e1a3a6-a331-45c4-d8b8-0895350a4ae9"
      },
      "execution_count": null,
      "outputs": [
        {
          "output_type": "stream",
          "name": "stdout",
          "text": [
            "Writing avg_weather.py\n"
          ]
        }
      ]
    },
    {
      "cell_type": "code",
      "source": [
        "%%writefile weather.txt\n",
        "Date       Temperature DewPoint WindSpeed\n",
        "2023-01-01 12.3         5.4      15\n",
        "2023-01-02 14.2         6.1      18\n",
        "2023-01-03 13.7         5.8      12\n",
        "2023-01-04 15.0         7.0      20\n"
      ],
      "metadata": {
        "colab": {
          "base_uri": "https://localhost:8080/"
        },
        "id": "lRwgCc_tI_cb",
        "outputId": "d92424c4-61e5-44b9-a45f-1752c6cc55d9"
      },
      "execution_count": null,
      "outputs": [
        {
          "output_type": "stream",
          "name": "stdout",
          "text": [
            "Writing weather.txt\n"
          ]
        }
      ]
    },
    {
      "cell_type": "code",
      "source": [
        "!python avg_weather.py weather.txt\n"
      ],
      "metadata": {
        "colab": {
          "base_uri": "https://localhost:8080/"
        },
        "id": "rKLYn8uGJBMZ",
        "outputId": "5f3fb468-529e-40c1-e2c2-c973c92c2e8c"
      },
      "execution_count": null,
      "outputs": [
        {
          "output_type": "stream",
          "name": "stdout",
          "text": [
            "No configs found; falling back on auto-configuration\n",
            "No configs specified for inline runner\n",
            "Creating temp directory /tmp/avg_weather.root.20250428.112440.179302\n",
            "Running step 1 of 1...\n",
            "job output is in /tmp/avg_weather.root.20250428.112440.179302/output\n",
            "Streaming final output from /tmp/avg_weather.root.20250428.112440.179302/output...\n",
            "\"Average\"\t[13.8, 6.075, 16.25]\n",
            "Removing temp directory /tmp/avg_weather.root.20250428.112440.179302...\n"
          ]
        }
      ]
    },
    {
      "cell_type": "code",
      "source": [
        "%%writefile log_processor.py\n",
        "from mrjob.job import MRJob\n",
        "\n",
        "class LogFileProcessor(MRJob):\n",
        "\n",
        "    def mapper(self, _, line):\n",
        "        try:\n",
        "            # No decoding needed in Colab, line is already str\n",
        "            parts = line.split(' ', 2)\n",
        "            if len(parts) >= 2:\n",
        "                log_level = parts[1]\n",
        "                yield (log_level, 1)\n",
        "            else:\n",
        "                yield (\"MALFORMED\", 1)\n",
        "        except Exception as e:\n",
        "            yield (\"ERROR\", 1)\n",
        "\n",
        "    def reducer(self, key, values):\n",
        "        try:\n",
        "            yield (key, sum(values))\n",
        "        except Exception as e:\n",
        "            yield (\"ERROR\", 1)\n",
        "\n",
        "if __name__ == '__main__':\n",
        "    LogFileProcessor.run()\n"
      ],
      "metadata": {
        "id": "cHwb_VODJEgI",
        "colab": {
          "base_uri": "https://localhost:8080/"
        },
        "outputId": "bd99c085-7f16-46ec-d142-912dbcdbdc09"
      },
      "execution_count": 5,
      "outputs": [
        {
          "output_type": "stream",
          "name": "stdout",
          "text": [
            "Overwriting log_processor.py\n"
          ]
        }
      ]
    },
    {
      "cell_type": "code",
      "source": [
        "%%writefile logs.txt\n",
        "2025-04-28 10:00:00 INFO Starting system\n",
        "2025-04-28 10:01:00 ERROR Failed to load module\n",
        "2025-04-28 10:02:00 INFO System running\n",
        "2025-04-28 10:03:00 WARNING Disk almost full\n",
        "2025-04-28 10:04:00 ERROR Could not connect to server\n"
      ],
      "metadata": {
        "colab": {
          "base_uri": "https://localhost:8080/"
        },
        "id": "SCyGbASSVx4A",
        "outputId": "925c8e84-7547-49f4-db04-304b5a91c846"
      },
      "execution_count": 6,
      "outputs": [
        {
          "output_type": "stream",
          "name": "stdout",
          "text": [
            "Overwriting logs.txt\n"
          ]
        }
      ]
    },
    {
      "cell_type": "code",
      "source": [
        "!python log_processor.py logs.txt\n"
      ],
      "metadata": {
        "colab": {
          "base_uri": "https://localhost:8080/"
        },
        "id": "m4HKqfadV1S7",
        "outputId": "c634a379-8799-41be-8cc3-fdbff101b869"
      },
      "execution_count": 7,
      "outputs": [
        {
          "output_type": "stream",
          "name": "stdout",
          "text": [
            "No configs found; falling back on auto-configuration\n",
            "No configs specified for inline runner\n",
            "Creating temp directory /tmp/log_processor.root.20250428.122125.885535\n",
            "Running step 1 of 1...\n",
            "job output is in /tmp/log_processor.root.20250428.122125.885535/output\n",
            "Streaming final output from /tmp/log_processor.root.20250428.122125.885535/output...\n",
            "\"10:02:00\"\t1\n",
            "\"10:03:00\"\t1\n",
            "\"10:04:00\"\t1\n",
            "\"10:00:00\"\t1\n",
            "\"10:01:00\"\t1\n",
            "Removing temp directory /tmp/log_processor.root.20250428.122125.885535...\n"
          ]
        }
      ]
    },
    {
      "cell_type": "code",
      "source": [],
      "metadata": {
        "id": "unfo-5KqV5tb"
      },
      "execution_count": null,
      "outputs": []
    }
  ]
}